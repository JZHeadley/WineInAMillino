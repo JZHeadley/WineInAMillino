{
 "cells": [
  {
   "cell_type": "code",
   "execution_count": 3,
   "metadata": {},
   "outputs": [],
   "source": [
    "import re\n",
    "from nltk.util import ngrams\n",
    "import pandas as pd"
   ]
  },
  {
   "cell_type": "code",
   "execution_count": 5,
   "metadata": {},
   "outputs": [],
   "source": [
    "s = pd.read_csv(\"../wine-reviews/winemag-data-130k-v2.csv\")"
   ]
  },
  {
   "cell_type": "code",
   "execution_count": 6,
   "metadata": {},
   "outputs": [
    {
     "data": {
      "text/plain": [
       "0         Aromas include tropical fruit broom brimstone ...\n",
       "1         This is ripe and fruity a wine that is smooth ...\n",
       "2         Tart and snappy the flavors of lime flesh and ...\n",
       "3         Pineapple rind lemon pith and orange blossom s...\n",
       "4         Much like the regular bottling from 2012 this ...\n",
       "                                ...                        \n",
       "129966    Notes of honeysuckle and cantaloupe sweeten th...\n",
       "129967    Citation is given as much as a decade of bottl...\n",
       "129968    Welldrained gravel soil gives this wine its cr...\n",
       "129969    A dry style of Pinot Gris this is crisp with s...\n",
       "129970    Big rich and offdry this is powered by intense...\n",
       "Name: description, Length: 129971, dtype: object"
      ]
     },
     "execution_count": 6,
     "metadata": {},
     "output_type": "execute_result"
    }
   ],
   "source": [
    "def trigrams(desc):\n",
    "    return re.sub(r'[^a-zA-Z0-9\\s]', '', desc)\n",
    "\n",
    "s[\"description\"].map(trigrams)"
   ]
  },
  {
   "cell_type": "code",
   "execution_count": 7,
   "metadata": {},
   "outputs": [],
   "source": [
    "ngramify = lambda x: list(ngrams([token for token in x.split(\" \") if token != \"\"],3))\n",
    "s['trigrams'] = s['description'].apply(ngramify)"
   ]
  },
  {
   "cell_type": "code",
   "execution_count": 8,
   "metadata": {},
   "outputs": [
    {
     "name": "stdout",
     "output_type": "stream",
     "text": [
      "0         [(Aromas, include, tropical), (include, tropic...\n",
      "1         [(This, is, ripe), (is, ripe, and), (ripe, and...\n",
      "2         [(Tart, and, snappy,), (and, snappy,, the), (s...\n",
      "3         [(Pineapple, rind,, lemon), (rind,, lemon, pit...\n",
      "4         [(Much, like, the), (like, the, regular), (the...\n",
      "                                ...                        \n",
      "129966    [(Notes, of, honeysuckle), (of, honeysuckle, a...\n",
      "129967    [(Citation, is, given), (is, given, as), (give...\n",
      "129968    [(Well-drained, gravel, soil), (gravel, soil, ...\n",
      "129969    [(A, dry, style), (dry, style, of), (style, of...\n",
      "129970    [(Big,, rich, and), (rich, and, off-dry,), (an...\n",
      "Name: trigrams, Length: 129971, dtype: object\n",
      "        Unnamed: 0   country  \\\n",
      "0                0     Italy   \n",
      "1                1  Portugal   \n",
      "2                2        US   \n",
      "3                3        US   \n",
      "4                4        US   \n",
      "...            ...       ...   \n",
      "129966      129966   Germany   \n",
      "129967      129967        US   \n",
      "129968      129968    France   \n",
      "129969      129969    France   \n",
      "129970      129970    France   \n",
      "\n",
      "                                              description  \\\n",
      "0       Aromas include tropical fruit, broom, brimston...   \n",
      "1       This is ripe and fruity, a wine that is smooth...   \n",
      "2       Tart and snappy, the flavors of lime flesh and...   \n",
      "3       Pineapple rind, lemon pith and orange blossom ...   \n",
      "4       Much like the regular bottling from 2012, this...   \n",
      "...                                                   ...   \n",
      "129966  Notes of honeysuckle and cantaloupe sweeten th...   \n",
      "129967  Citation is given as much as a decade of bottl...   \n",
      "129968  Well-drained gravel soil gives this wine its c...   \n",
      "129969  A dry style of Pinot Gris, this is crisp with ...   \n",
      "129970  Big, rich and off-dry, this is powered by inte...   \n",
      "\n",
      "                                   designation  points  price  \\\n",
      "0                                 Vulkà Bianco      87    NaN   \n",
      "1                                     Avidagos      87   15.0   \n",
      "2                                          NaN      87   14.0   \n",
      "3                         Reserve Late Harvest      87   13.0   \n",
      "4           Vintner's Reserve Wild Child Block      87   65.0   \n",
      "...                                        ...     ...    ...   \n",
      "129966  Brauneberger Juffer-Sonnenuhr Spätlese      90   28.0   \n",
      "129967                                     NaN      90   75.0   \n",
      "129968                                   Kritt      90   30.0   \n",
      "129969                                     NaN      90   32.0   \n",
      "129970           Lieu-dit Harth Cuvée Caroline      90   21.0   \n",
      "\n",
      "                 province             region_1           region_2  \\\n",
      "0       Sicily & Sardinia                 Etna                NaN   \n",
      "1                   Douro                  NaN                NaN   \n",
      "2                  Oregon    Willamette Valley  Willamette Valley   \n",
      "3                Michigan  Lake Michigan Shore                NaN   \n",
      "4                  Oregon    Willamette Valley  Willamette Valley   \n",
      "...                   ...                  ...                ...   \n",
      "129966              Mosel                  NaN                NaN   \n",
      "129967             Oregon               Oregon       Oregon Other   \n",
      "129968             Alsace               Alsace                NaN   \n",
      "129969             Alsace               Alsace                NaN   \n",
      "129970             Alsace               Alsace                NaN   \n",
      "\n",
      "               taster_name taster_twitter_handle  \\\n",
      "0            Kerin O’Keefe          @kerinokeefe   \n",
      "1               Roger Voss            @vossroger   \n",
      "2             Paul Gregutt           @paulgwine    \n",
      "3       Alexander Peartree                   NaN   \n",
      "4             Paul Gregutt           @paulgwine    \n",
      "...                    ...                   ...   \n",
      "129966  Anna Lee C. Iijima                   NaN   \n",
      "129967        Paul Gregutt           @paulgwine    \n",
      "129968          Roger Voss            @vossroger   \n",
      "129969          Roger Voss            @vossroger   \n",
      "129970          Roger Voss            @vossroger   \n",
      "\n",
      "                                                    title         variety  \\\n",
      "0                       Nicosia 2013 Vulkà Bianco  (Etna)     White Blend   \n",
      "1           Quinta dos Avidagos 2011 Avidagos Red (Douro)  Portuguese Red   \n",
      "2           Rainstorm 2013 Pinot Gris (Willamette Valley)      Pinot Gris   \n",
      "3       St. Julian 2013 Reserve Late Harvest Riesling ...        Riesling   \n",
      "4       Sweet Cheeks 2012 Vintner's Reserve Wild Child...      Pinot Noir   \n",
      "...                                                   ...             ...   \n",
      "129966  Dr. H. Thanisch (Erben Müller-Burggraef) 2013 ...        Riesling   \n",
      "129967                  Citation 2004 Pinot Noir (Oregon)      Pinot Noir   \n",
      "129968  Domaine Gresser 2013 Kritt Gewurztraminer (Als...  Gewürztraminer   \n",
      "129969      Domaine Marcel Deiss 2012 Pinot Gris (Alsace)      Pinot Gris   \n",
      "129970  Domaine Schoffit 2012 Lieu-dit Harth Cuvée Car...  Gewürztraminer   \n",
      "\n",
      "                                          winery  \\\n",
      "0                                        Nicosia   \n",
      "1                            Quinta dos Avidagos   \n",
      "2                                      Rainstorm   \n",
      "3                                     St. Julian   \n",
      "4                                   Sweet Cheeks   \n",
      "...                                          ...   \n",
      "129966  Dr. H. Thanisch (Erben Müller-Burggraef)   \n",
      "129967                                  Citation   \n",
      "129968                           Domaine Gresser   \n",
      "129969                      Domaine Marcel Deiss   \n",
      "129970                          Domaine Schoffit   \n",
      "\n",
      "                                                 trigrams  \n",
      "0       [(Aromas, include, tropical), (include, tropic...  \n",
      "1       [(This, is, ripe), (is, ripe, and), (ripe, and...  \n",
      "2       [(Tart, and, snappy,), (and, snappy,, the), (s...  \n",
      "3       [(Pineapple, rind,, lemon), (rind,, lemon, pit...  \n",
      "4       [(Much, like, the), (like, the, regular), (the...  \n",
      "...                                                   ...  \n",
      "129966  [(Notes, of, honeysuckle), (of, honeysuckle, a...  \n",
      "129967  [(Citation, is, given), (is, given, as), (give...  \n",
      "129968  [(Well-drained, gravel, soil), (gravel, soil, ...  \n",
      "129969  [(A, dry, style), (dry, style, of), (style, of...  \n",
      "129970  [(Big,, rich, and), (rich, and, off-dry,), (an...  \n",
      "\n",
      "[129971 rows x 15 columns]\n"
     ]
    }
   ],
   "source": [
    "print(s['trigrams'])\n",
    "print(s)"
   ]
  },
  {
   "cell_type": "code",
   "execution_count": 12,
   "metadata": {},
   "outputs": [
    {
     "name": "stderr",
     "output_type": "stream",
     "text": [
      "usage: ipykernel_launcher.py [-h] -model_dir MODEL_DIR\n",
      "                             [-tuned_model_dir TUNED_MODEL_DIR]\n",
      "                             [-ckpt_name CKPT_NAME] [-config_name CONFIG_NAME]\n",
      "                             [-graph_tmp_dir GRAPH_TMP_DIR]\n",
      "                             [-max_seq_len MAX_SEQ_LEN] [-cased_tokenization]\n",
      "                             [-pooling_layer POOLING_LAYER [POOLING_LAYER ...]]\n",
      "                             [-pooling_strategy {NONE,REDUCE_MAX,REDUCE_MEAN,REDUCE_MEAN_MAX,FIRST_TOKEN,LAST_TOKEN}]\n",
      "                             [-mask_cls_sep] [-no_special_token]\n",
      "                             [-show_tokens_to_client] [-port PORT]\n",
      "                             [-port_out PORT_OUT] [-http_port HTTP_PORT]\n",
      "                             [-http_max_connect HTTP_MAX_CONNECT] [-cors CORS]\n",
      "                             [-num_worker NUM_WORKER]\n",
      "                             [-max_batch_size MAX_BATCH_SIZE]\n",
      "                             [-priority_batch_size PRIORITY_BATCH_SIZE] [-cpu]\n",
      "                             [-xla] [-fp16]\n",
      "                             [-gpu_memory_fraction GPU_MEMORY_FRACTION]\n",
      "                             [-device_map DEVICE_MAP [DEVICE_MAP ...]]\n",
      "                             [-prefetch_size PREFETCH_SIZE]\n",
      "                             [-fixed_embed_length] [-verbose] [-version]\n",
      "ipykernel_launcher.py: error: ambiguous option: -f could match -fp16, -fixed_embed_length\n"
     ]
    },
    {
     "ename": "SystemExit",
     "evalue": "2",
     "output_type": "error",
     "traceback": [
      "An exception has occurred, use %tb to see the full traceback.\n",
      "\u001b[0;31mSystemExit\u001b[0m\u001b[0;31m:\u001b[0m 2\n"
     ]
    }
   ],
   "source": [
    "from bert_serving.server import BertServer\n",
    "from bert_serving.server.helper import get_run_args, get_args_parser, get_shutdown_parser\n",
    "\n",
    "bert_args = get_run_args()\n",
    "print(bert_args)"
   ]
  },
  {
   "cell_type": "code",
   "execution_count": null,
   "metadata": {},
   "outputs": [],
   "source": [
    "import time\n",
    "\n",
    "server = bertServer(bert_args)\n",
    "server.start()\n",
    "time.sleep(20)"
   ]
  },
  {
   "cell_type": "code",
   "execution_count": null,
   "metadata": {},
   "outputs": [],
   "source": [
    "from bert_serving.client import BertClient\n",
    "\n",
    "bc = BertClient()\n",
    "print(bc)"
   ]
  },
  {
   "cell_type": "code",
   "execution_count": 3,
   "metadata": {},
   "outputs": [
    {
     "ename": "NameError",
     "evalue": "name 's' is not defined",
     "output_type": "error",
     "traceback": [
      "\u001b[0;31m---------------------------------------------------------------------------\u001b[0m",
      "\u001b[0;31mNameError\u001b[0m                                 Traceback (most recent call last)",
      "\u001b[0;32m<ipython-input-3-974eb5ce1d38>\u001b[0m in \u001b[0;36m<module>\u001b[0;34m\u001b[0m\n\u001b[0;32m----> 1\u001b[0;31m \u001b[0;32mfor\u001b[0m \u001b[0mrow\u001b[0m \u001b[0;32min\u001b[0m \u001b[0ms\u001b[0m\u001b[0;34m[\u001b[0m\u001b[0;34m'trigrams'\u001b[0m\u001b[0;34m]\u001b[0m\u001b[0;34m.\u001b[0m\u001b[0miteritems\u001b[0m\u001b[0;34m(\u001b[0m\u001b[0;34m)\u001b[0m\u001b[0;34m:\u001b[0m\u001b[0;34m\u001b[0m\u001b[0;34m\u001b[0m\u001b[0m\n\u001b[0m\u001b[1;32m      2\u001b[0m     \u001b[0;32mfor\u001b[0m \u001b[0mtup\u001b[0m \u001b[0;32min\u001b[0m \u001b[0mrow\u001b[0m\u001b[0;34m:\u001b[0m\u001b[0;34m\u001b[0m\u001b[0;34m\u001b[0m\u001b[0m\n\u001b[1;32m      3\u001b[0m         \u001b[0mbc\u001b[0m\u001b[0;34m.\u001b[0m\u001b[0mencode\u001b[0m\u001b[0;34m(\u001b[0m\u001b[0mtup\u001b[0m\u001b[0;34m)\u001b[0m\u001b[0;34m\u001b[0m\u001b[0;34m\u001b[0m\u001b[0m\n",
      "\u001b[0;31mNameError\u001b[0m: name 's' is not defined"
     ]
    }
   ],
   "source": [
    "for row in s['trigrams'].iteritems():\n",
    "    for tup in row:\n",
    "        bc.encode(tup)"
   ]
  },
  {
   "cell_type": "code",
   "execution_count": null,
   "metadata": {},
   "outputs": [],
   "source": []
  }
 ],
 "metadata": {
  "file_extension": ".py",
  "kernelspec": {
   "display_name": "WineInAMillion-gc_NmYU7",
   "language": "python",
   "name": "wineinamillion-gc_nmyu7"
  },
  "language_info": {
   "codemirror_mode": {
    "name": "ipython",
    "version": 3
   },
   "file_extension": ".py",
   "mimetype": "text/x-python",
   "name": "python",
   "nbconvert_exporter": "python",
   "pygments_lexer": "ipython3",
   "version": "3.7.4"
  },
  "mimetype": "text/x-python",
  "name": "python",
  "npconvert_exporter": "python",
  "pygments_lexer": "ipython3",
  "version": 3
 },
 "nbformat": 4,
 "nbformat_minor": 2
}
